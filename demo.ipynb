{
 "cells": [
  {
   "cell_type": "code",
   "execution_count": 1,
   "metadata": {
    "collapsed": true
   },
   "outputs": [],
   "source": [
    "from numba import vectorize\n",
    "import numpy as np\n",
    "from timeit import default_timer as timer"
   ]
  },
  {
   "cell_type": "markdown",
   "metadata": {},
   "source": [
    "# GPU accelerated\n",
    "\n",
    "Vector addition using GPU. This should be quite fast."
   ]
  },
  {
   "cell_type": "code",
   "execution_count": 2,
   "metadata": {
    "collapsed": true
   },
   "outputs": [],
   "source": [
    "@vectorize(['float32(float32, float32)'], target='cuda')\n",
    "def vector_add_gpu(a, b):\n",
    "    return a + b\n",
    "\n",
    "def test_vector_add_gpu():\n",
    "    \n",
    "    N = 32000000\n",
    "    A = np.ones(N, dtype=np.float32)\n",
    "    B = np.ones(N, dtype=np.float32)\n",
    "    C = np.zeros(N, dtype=np.float32)\n",
    "    \n",
    "    start = timer()\n",
    "    C = vector_add_gpu(A, B)\n",
    "    vector_add_gpu_time = timer() - start\n",
    "    \n",
    "    print('C[:5] = {}'.format(C[:5]))\n",
    "    print('C[-5:] = {}'.format(C[-5:]))\n",
    "    \n",
    "    print('vector_add_gpu took {} seconds'.format(vector_add_gpu_time))"
   ]
  },
  {
   "cell_type": "code",
   "execution_count": 4,
   "metadata": {
    "collapsed": false
   },
   "outputs": [
    {
     "name": "stdout",
     "output_type": "stream",
     "text": [
      "C[:5] = [ 2.  2.  2.  2.  2.]\n",
      "C[-5:] = [ 2.  2.  2.  2.  2.]\n",
      "vector_add_gpu took 0.1461798809999948 seconds\n"
     ]
    }
   ],
   "source": [
    "test_vector_add_gpu()"
   ]
  },
  {
   "cell_type": "markdown",
   "metadata": {},
   "source": [
    "# CPU benchmark\n",
    "\n",
    "Vector addition using CPU. This should be much slower (~10s to minutes)."
   ]
  },
  {
   "cell_type": "code",
   "execution_count": 5,
   "metadata": {
    "collapsed": true
   },
   "outputs": [],
   "source": [
    "def vector_add_cpu(a, b, c):\n",
    "    for i in range(a.size):\n",
    "        c[i] = a[i] + b[i]\n",
    "        \n",
    "def test_vector_add_cpu():\n",
    "    \n",
    "    N = 32000000\n",
    "    A = np.ones(N, dtype=np.float32)\n",
    "    B = np.ones(N, dtype=np.float32)\n",
    "    C = np.zeros(N, dtype=np.float32)\n",
    "    \n",
    "    start = timer()\n",
    "    vector_add_cpu(A, B, C)\n",
    "    vector_add_cpu_time = timer() - start\n",
    "    \n",
    "    print('C[:5] = {}'.format(C[:5]))\n",
    "    print('C[-5:] = {}'.format(C[-5:]))\n",
    "    \n",
    "    print('vector_add_cpu took {} seconds'.format(vector_add_cpu_time))"
   ]
  },
  {
   "cell_type": "code",
   "execution_count": 6,
   "metadata": {
    "collapsed": false
   },
   "outputs": [
    {
     "name": "stdout",
     "output_type": "stream",
     "text": [
      "C[:5] = [ 2.  2.  2.  2.  2.]\n",
      "C[-5:] = [ 2.  2.  2.  2.  2.]\n",
      "vector_add_cpu took 10.688909762999998 seconds\n"
     ]
    }
   ],
   "source": [
    "test_vector_add_cpu()"
   ]
  }
 ],
 "metadata": {
  "kernelspec": {
   "display_name": "Python 3",
   "language": "python",
   "name": "python3"
  },
  "language_info": {
   "codemirror_mode": {
    "name": "ipython",
    "version": 3
   },
   "file_extension": ".py",
   "mimetype": "text/x-python",
   "name": "python",
   "nbconvert_exporter": "python",
   "pygments_lexer": "ipython3",
   "version": "3.5.4"
  }
 },
 "nbformat": 4,
 "nbformat_minor": 2
}
