{
 "cells": [
  {
   "cell_type": "markdown",
   "metadata": {},
   "source": [
    "# SPMV: sparse-matrix (dense)-vector multiplication"
   ]
  },
  {
   "cell_type": "markdown",
   "metadata": {},
   "source": [
    "Let's look the csr (compressed sparse row) format for storing sparse matrices.\n",
    "\n",
    "A dense matrix is converted into a csr-formatted sparse matrix in the following way:\n",
    "\n",
    "1. Collect all nonzero entries into a 1-D \"data\" array, sorted first by row, and then by column. Equivalently, concatenate the rows of the matrix and extract the ordered list of nonzero entries.\n",
    "2. Enter their corresponding column indices into another 1-D \"indices\" array of the same size as and in one-to-one correspondence with \"data\". E.g. indices[4] is the column index of the entry in data[4].\n",
    "3. Create a final 1-D array \"indptr\" indicating which entries in data/indices correspond to which rows. E.g. if row 5 has 3 nonzero entries in the dense matrix, and these are entries 7, 8, and 9 in \"data\", we would have indptr[5] = 7 and indptr[6] = 10, specifying that these entries and their corresponding column indices are listed in order at positions 7 - 10 (upper bound exclusive, a la python) in data and indices, respectively."
   ]
  },
  {
   "cell_type": "markdown",
   "metadata": {},
   "source": [
    "### Example"
   ]
  },
  {
   "cell_type": "code",
   "execution_count": 1,
   "metadata": {
    "collapsed": false
   },
   "outputs": [
    {
     "name": "stdout",
     "output_type": "stream",
     "text": [
      "sparse.data: \n",
      "[ 1.  2.  4.  3.  5.  1.  2.  4.  3.]\n",
      "\n",
      "sparse.indices: \n",
      "[3 1 2 6 3 0 3 4 1]\n",
      "\n",
      "sparse.indptr: \n",
      "[0 1 2 4 4 5 8 9]\n",
      "\n"
     ]
    }
   ],
   "source": [
    "%reset -f\n",
    "import numpy as np\n",
    "from scipy.sparse import csr_matrix\n",
    "\n",
    "dense = np.array([\n",
    "    [0, 0, 0, 1, 0, 0, 0],\n",
    "    [0, 2, 0, 0, 0, 0, 0],\n",
    "    [0, 0, 4, 0, 0, 0, 3],\n",
    "    [0, 0, 0, 0, 0, 0, 0],\n",
    "    [0, 0, 0, 5, 0, 0, 0],\n",
    "    [1, 0, 0, 2, 4, 0, 0],\n",
    "    [0, 3, 0, 0, 0, 0, 0],\n",
    "], dtype=np.float32)\n",
    "\n",
    "sparse = csr_matrix(dense)\n",
    "\n",
    "print('sparse.data: ')\n",
    "print(sparse.data)\n",
    "print('')\n",
    "print('sparse.indices: ')\n",
    "print(sparse.indices)\n",
    "print('')\n",
    "print('sparse.indptr: ')\n",
    "print(sparse.indptr)\n",
    "print('')"
   ]
  },
  {
   "cell_type": "markdown",
   "metadata": {},
   "source": [
    "# Using pyculib.sparse"
   ]
  },
  {
   "cell_type": "code",
   "execution_count": 2,
   "metadata": {
    "collapsed": false
   },
   "outputs": [
    {
     "name": "stdout",
     "output_type": "stream",
     "text": [
      "transpose of computed C: \n",
      "[[  4.   4.  33.   0.  20.  29.   6.]]\n",
      "\n",
      "transpose of correct C: \n",
      "[[  4.   4.  33.   0.  20.  29.   6.]]\n"
     ]
    }
   ],
   "source": [
    "%reset -f\n",
    "import numpy as np\n",
    "from pyculib.blas import Blas\n",
    "from pyculib.sparse import Sparse\n",
    "from scipy.sparse import csr_matrix\n",
    "from time import time\n",
    "\n",
    "\n",
    "def dmv_cuda(a_dense, b, bl, count):\n",
    "    \"\"\"Compute a_dense x b.\"\"\"\n",
    "    \n",
    "    trans_a = 'N'\n",
    "    trans_b = 'N'\n",
    "    m = a_dense.shape[0]\n",
    "    n = b.shape[1]\n",
    "    k = a_dense.shape[1]\n",
    "    alpha = 1\n",
    "    beta = 0\n",
    "    c = np.empty((m, n), dtype=a_dense.dtype)\n",
    "    \n",
    "    # call function\n",
    "    tic = time()\n",
    "    for ii in range(count):\n",
    "        bl.gemm(\n",
    "            transa=trans_a,\n",
    "            transb=trans_b,\n",
    "            m=m,\n",
    "            n=n,\n",
    "            k=k,\n",
    "            alpha=alpha,\n",
    "            A=a_dense,\n",
    "            B=b,\n",
    "            beta=beta,\n",
    "            C=c)\n",
    "    toc = time()\n",
    "    \n",
    "    return c, toc - tic\n",
    "\n",
    "\n",
    "def spmv_cuda(a_sparse, b, sp, count):\n",
    "    \"\"\"Compute a_sparse x b.\"\"\"\n",
    "\n",
    "    # args to csrmm call\n",
    "    trans_a = 'N'  # non-transpose, use 'T' for transpose or 'C' for conjugate transpose\n",
    "    m = a_sparse.shape[0]  # num rows in a\n",
    "    n = b.shape[1]  # num cols in b, c\n",
    "    k = a_sparse.shape[1]  # num cols in a\n",
    "    nnz = len(a_sparse.data)  # num nonzero in a\n",
    "    alpha = 1\n",
    "    descr_a = sp.matdescr(  # matrix descriptor\n",
    "        indexbase=0,  # 0-based indexing\n",
    "        matrixtype='G',  # 'general': no symmetry or triangular structure\n",
    "    )\n",
    "    csr_val_a = a_sparse.data\n",
    "    csr_row_ptr_a = a_sparse.indptr\n",
    "    csr_col_ind_a = a_sparse.indices\n",
    "    ldb = b.shape[0]\n",
    "    beta = 0\n",
    "    c = np.empty((m, n), dtype=a_sparse.dtype)\n",
    "    ldc = b.shape[0]\n",
    "\n",
    "    # call function\n",
    "    tic = time()\n",
    "    for ii in range(count):\n",
    "        sp.csrmm(\n",
    "            transA=trans_a,\n",
    "            m=m,\n",
    "            n=n,\n",
    "            k=k,\n",
    "            nnz=nnz,\n",
    "            alpha=alpha,\n",
    "            descrA=descr_a,\n",
    "            csrValA=csr_val_a,\n",
    "            csrRowPtrA=csr_row_ptr_a,\n",
    "            csrColIndA=csr_col_ind_a,\n",
    "            B=b,\n",
    "            ldb=ldb,\n",
    "            beta=beta,\n",
    "            C=c,\n",
    "            ldc=ldc)\n",
    "    toc = time()\n",
    "    \n",
    "    return c, toc - tic\n",
    "\n",
    "\n",
    "a_dense = np.array([\n",
    "    [0, 0, 0, 1, 0, 0, 0],\n",
    "    [0, 2, 0, 0, 0, 0, 0],\n",
    "    [0, 0, 4, 0, 0, 0, 3],\n",
    "    [0, 0, 0, 0, 0, 0, 0],\n",
    "    [0, 0, 0, 5, 0, 0, 0],\n",
    "    [1, 0, 0, 2, 4, 0, 0],\n",
    "    [0, 3, 0, 0, 0, 0, 0],\n",
    "], dtype=np.float32)\n",
    "\n",
    "b = np.array([[1, 2, 3, 4, 5, 6, 7]], dtype=np.float32).T\n",
    "\n",
    "c_correct = np.array([[4, 4, 33, 0, 20, 29, 6]], dtype=np.float32).T\n",
    "\n",
    "a_sparse = csr_matrix(a_dense)\n",
    "\n",
    "c, _ = spmv_cuda(a_sparse, b, Sparse(), 1)\n",
    "\n",
    "print('transpose of computed C: ')\n",
    "print(c.T)\n",
    "print('')\n",
    "print('transpose of correct C: ')\n",
    "print(c_correct.T)\n",
    "\n",
    "assert np.allclose(c, c_correct)"
   ]
  },
  {
   "cell_type": "markdown",
   "metadata": {},
   "source": [
    "Benchmarks for large matrices:"
   ]
  },
  {
   "cell_type": "code",
   "execution_count": 3,
   "metadata": {
    "collapsed": false
   },
   "outputs": [
    {
     "name": "stdout",
     "output_type": "stream",
     "text": [
      "Constructing objects...\n",
      "\n",
      "\n",
      "Testing numpy dense matrix multiplication...\n",
      "\n",
      "c = [ 122.29483032  127.83660126  128.75003052  130.69122314  124.98326111]\n",
      "numpy dense matrix multiplication took 0.3836953639984131 seconds\n",
      "\n",
      "\n",
      "Testing scipy sparse matrix multiplication...\n",
      "\n",
      "c = [ 122.29484558  127.83656311  128.75004578  130.69120789  124.98323059]\n",
      "scipy sparse matrix multiplication took 0.05158638954162598 seconds\n",
      "\n",
      "\n",
      "Testing pyculib dense matrix multiplication...\n",
      "\n",
      "c = [ 124.36391449  122.09269714  132.46936035  117.8239975   129.03109741]\n",
      "pyculib dense matrix multiplication took 0.6303513050079346 seconds\n",
      "\n",
      "\n",
      "Testing pyculib sparse matrix multiplication...\n",
      "\n",
      "c = [ 122.29483032  127.83659363  128.75003052  130.6912384   124.98326111]\n",
      "pyculib sparse matrix multiplication took 0.12598299980163574 seconds\n",
      "\n",
      "\n"
     ]
    }
   ],
   "source": [
    "COUNT = 20\n",
    "N = 5000\n",
    "P = 0.1\n",
    "\n",
    "print('Constructing objects...\\n\\n')\n",
    "np.random.seed(0)\n",
    "a_dense = np.random.rand(N, N).astype(np.float32)\n",
    "a_dense[np.random.rand(N, N) >= P] = 0\n",
    "a_sparse = csr_matrix(a_dense)\n",
    "\n",
    "b = np.random.rand(N, 1).astype(np.float32)\n",
    "\n",
    "bl = Blas()\n",
    "sp = Sparse()\n",
    "\n",
    "# numpy dense\n",
    "print('Testing numpy dense matrix multiplication...\\n')\n",
    "\n",
    "tic = time()\n",
    "for ii in range(COUNT):\n",
    "    c = np.dot(a_dense, b)\n",
    "toc = time()\n",
    "\n",
    "print('c = {}'.format(c[:5, 0]))\n",
    "print('numpy dense matrix multiplication took {} seconds\\n\\n'.format(toc - tic))\n",
    "\n",
    "# scipy sparse\n",
    "print('Testing scipy sparse matrix multiplication...\\n')\n",
    "tic = time()\n",
    "for ii in range(COUNT):\n",
    "    c = a_sparse.dot(b)\n",
    "toc = time()\n",
    "\n",
    "print('c = {}'.format(c[:5, 0]))\n",
    "print('scipy sparse matrix multiplication took {} seconds\\n\\n'.format(toc - tic))\n",
    "\n",
    "# pyculib dense\n",
    "print('Testing pyculib dense matrix multiplication...\\n')\n",
    "\n",
    "c, t = dmv_cuda(a_dense, b, bl, COUNT)\n",
    "\n",
    "print('c = {}'.format(c[:5, 0]))\n",
    "print('pyculib dense matrix multiplication took {} seconds\\n\\n'.format(t))\n",
    "\n",
    "\n",
    "# pyculib sparse\n",
    "print('Testing pyculib sparse matrix multiplication...\\n')\n",
    "\n",
    "c, t = spmv_cuda(a_sparse, b, sp, COUNT)\n",
    "\n",
    "print('c = {}'.format(c[:5, 0]))\n",
    "print('pyculib sparse matrix multiplication took {} seconds\\n\\n'.format(t))"
   ]
  }
 ],
 "metadata": {
  "kernelspec": {
   "display_name": "Python 3",
   "language": "python",
   "name": "python3"
  },
  "language_info": {
   "codemirror_mode": {
    "name": "ipython",
    "version": 3
   },
   "file_extension": ".py",
   "mimetype": "text/x-python",
   "name": "python",
   "nbconvert_exporter": "python",
   "pygments_lexer": "ipython3",
   "version": "3.5.4"
  }
 },
 "nbformat": 4,
 "nbformat_minor": 2
}
