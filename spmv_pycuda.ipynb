{
 "cells": [
  {
   "cell_type": "code",
   "execution_count": 1,
   "metadata": {
    "collapsed": false
   },
   "outputs": [
    {
     "name": "stderr",
     "output_type": "stream",
     "text": [
      "/home/rpang_contact/anaconda3/lib/python3.5/site-packages/ipykernel/__main__.py:6: DeprecationWarning: pycuda.sparse is deprecated. and will be removed in 2015.x\n"
     ]
    }
   ],
   "source": [
    "%reset -f\n",
    "import numpy as np\n",
    "import pycuda.autoinit\n",
    "import pycuda.driver as drv\n",
    "import pycuda.gpuarray as gpuarray\n",
    "from pycuda.sparse.packeted import PacketedSpMV\n",
    "from pycuda.tools import DeviceMemoryPool\n",
    "from scipy.sparse import csr_matrix"
   ]
  },
  {
   "cell_type": "markdown",
   "metadata": {},
   "source": [
    "# Make sure we can detect GPUArray instances"
   ]
  },
  {
   "cell_type": "code",
   "execution_count": 2,
   "metadata": {
    "collapsed": false
   },
   "outputs": [
    {
     "name": "stdout",
     "output_type": "stream",
     "text": [
      "<class 'pycuda.gpuarray.GPUArray'>\n",
      "<class 'pycuda.gpuarray.GPUArray'>\n",
      "GPUArray\n"
     ]
    }
   ],
   "source": [
    "x = np.arange(5)\n",
    "d_x = gpuarray.to_gpu(x)\n",
    "print(type(d_x))\n",
    "print(d_x.__class__)\n",
    "print(d_x.__class__.__name__)"
   ]
  },
  {
   "cell_type": "markdown",
   "metadata": {},
   "source": [
    "# Make sure spmv is storing csr matrix using gpu arrays."
   ]
  },
  {
   "cell_type": "markdown",
   "metadata": {},
   "source": [
    "## Initialize arrays"
   ]
  },
  {
   "cell_type": "code",
   "execution_count": 3,
   "metadata": {
    "collapsed": true
   },
   "outputs": [],
   "source": [
    "dtype = np.float32\n",
    "\n",
    "a_dense = np.array([\n",
    "    [0, 0, 0, 1, 0, 0, 0],\n",
    "    [0, 2, 0, 0, 0, 0, 0],\n",
    "    [0, 0, 4, 0, 0, 0, 3],\n",
    "    [0, 0, 0, 0, 0, 0, 0],\n",
    "    [0, 0, 0, 5, 0, 0, 0],\n",
    "    [1, 0, 0, 2, 4, 0, 0],\n",
    "    [0, 3, 0, 0, 0, 0, 0],\n",
    "], dtype=dtype)\n",
    "a_sparse = csr_matrix(a_dense)\n",
    "\n",
    "a_data = a_sparse.data\n",
    "a_row_ptrs = a_sparse.indptr\n",
    "a_col_idxs = a_sparse.indices\n",
    "\n",
    "b = np.array([[1, 2, 3, 4, 5, 6, 7]], dtype=dtype).T\n",
    "c_correct = np.array([[4, 4, 33, 0, 20, 29, 6]], dtype=dtype).T\n",
    "\n",
    "m = a_sparse.shape[0]\n",
    "n = 1\n",
    "k = a_sparse.shape[1]"
   ]
  },
  {
   "cell_type": "markdown",
   "metadata": {},
   "source": [
    "## Create PacketedSpMV instance"
   ]
  },
  {
   "cell_type": "code",
   "execution_count": 4,
   "metadata": {
    "collapsed": false
   },
   "outputs": [],
   "source": [
    "spmv = PacketedSpMV(a_sparse, is_symmetric=False, dtype=dtype)"
   ]
  },
  {
   "cell_type": "code",
   "execution_count": 5,
   "metadata": {
    "collapsed": false
   },
   "outputs": [
    {
     "name": "stdout",
     "output_type": "stream",
     "text": [
      "__call__ (method)\n",
      "__class__ (type)\n",
      "__delattr__ (method-wrapper)\n",
      "__dict__ (dict)\n",
      "__dir__ (builtin_function_or_method)\n",
      "__doc__ (NoneType)\n",
      "__eq__ (method-wrapper)\n",
      "__format__ (builtin_function_or_method)\n",
      "__ge__ (method-wrapper)\n",
      "__getattribute__ (method-wrapper)\n",
      "__gt__ (method-wrapper)\n",
      "__hash__ (method-wrapper)\n",
      "__init__ (method)\n",
      "__le__ (method-wrapper)\n",
      "__lt__ (method-wrapper)\n",
      "__module__ (str)\n",
      "__ne__ (method-wrapper)\n",
      "__new__ (builtin_function_or_method)\n",
      "__reduce__ (builtin_function_or_method)\n",
      "__reduce_ex__ (builtin_function_or_method)\n",
      "__repr__ (method-wrapper)\n",
      "__setattr__ (method-wrapper)\n",
      "__sizeof__ (builtin_function_or_method)\n",
      "__str__ (method-wrapper)\n",
      "__subclasshook__ (builtin_function_or_method)\n",
      "__weakref__ (NoneType)\n",
      "block_count (int)\n",
      "build_gpu_data_structure (method)\n",
      "data_array (GPUArray)\n",
      "dtype (dtype)\n",
      "find_local_row_costs_and_remaining_coo (method)\n",
      "find_simple_index_stuff (method)\n",
      "find_thread_assignment (method)\n",
      "get_kernel (method)\n",
      "index_array (GPUArray)\n",
      "index_dtype (type)\n",
      "new2old_fetch_indices (GPUArray)\n",
      "old2new_fetch_indices (GPUArray)\n",
      "packed_index_dtype (type)\n",
      "packet_base_rows (GPUArray)\n",
      "permute (method)\n",
      "remaining_coo_gpu (CoordinateSpMV)\n",
      "rows_per_packet (int)\n",
      "shape (tuple)\n",
      "thread_ends (GPUArray)\n",
      "thread_starts (GPUArray)\n",
      "threads_per_packet (int)\n",
      "unpermute (method)\n"
     ]
    }
   ],
   "source": [
    "for attr in dir(spmv):\n",
    "    val = getattr(spmv, attr)\n",
    "    print('{} ({})'.format(attr, type(val).__name__))"
   ]
  },
  {
   "cell_type": "code",
   "execution_count": 6,
   "metadata": {
    "collapsed": false
   },
   "outputs": [
    {
     "name": "stdout",
     "output_type": "stream",
     "text": [
      "data_array (GPUArray) = [ 1.  4.  3. ...,  0.  0.  0.]\n",
      "index_array (GPUArray) = [327680 131074 393217 ...,      0      0      0]\n",
      "new2old_fetch_indices (GPUArray) = [0 1 2 3 4 5 6]\n",
      "old2new_fetch_indices (GPUArray) = [0 1 2 3 4 5 6]\n",
      "packet_base_rows (GPUArray) = [0 7]\n",
      "thread_ends (GPUArray) = [3072 2049 1026 ..., 1021 1022 1023]\n",
      "thread_starts (GPUArray) = [   0    1    2 ..., 1021 1022 1023]\n"
     ]
    }
   ],
   "source": [
    "for attr in dir(spmv):\n",
    "    val = getattr(spmv, attr)\n",
    "    if type(val).__name__.endswith('GPUArray'):\n",
    "        print('{} ({}) = {}'.format(attr, type(val).__name__, val))"
   ]
  },
  {
   "cell_type": "markdown",
   "metadata": {},
   "source": [
    "# Make sure we can correctly calculate the product"
   ]
  },
  {
   "cell_type": "markdown",
   "metadata": {},
   "source": [
    "## Move b to initialize c on GPU"
   ]
  },
  {
   "cell_type": "code",
   "execution_count": 7,
   "metadata": {
    "collapsed": true
   },
   "outputs": [],
   "source": [
    "dev_pool = DeviceMemoryPool()\n",
    "\n",
    "d_b = gpuarray.to_gpu(b, dev_pool.allocate)\n",
    "d_c = gpuarray.zeros(m, dtype=dtype, allocator=d_b.allocator)"
   ]
  },
  {
   "cell_type": "markdown",
   "metadata": {},
   "source": [
    "## Calculate the matrix product"
   ]
  },
  {
   "cell_type": "code",
   "execution_count": 8,
   "metadata": {
    "collapsed": false
   },
   "outputs": [
    {
     "name": "stdout",
     "output_type": "stream",
     "text": [
      "C computed: [  4.   4.  33.   0.  20.  29.   6.]\n",
      "C correct: [  4.   4.  33.   0.  20.  29.   6.]\n"
     ]
    }
   ],
   "source": [
    "d_c = spmv(d_b, d_c)\n",
    "\n",
    "print('C computed: {}'.format(d_c.get().flatten()))\n",
    "print('C correct: {}'.format(c_correct.flatten()))"
   ]
  },
  {
   "cell_type": "markdown",
   "metadata": {},
   "source": [
    "# Run benchmarks"
   ]
  },
  {
   "cell_type": "code",
   "execution_count": null,
   "metadata": {
    "collapsed": true
   },
   "outputs": [],
   "source": []
  }
 ],
 "metadata": {
  "kernelspec": {
   "display_name": "Python 3",
   "language": "python",
   "name": "python3"
  },
  "language_info": {
   "codemirror_mode": {
    "name": "ipython",
    "version": 3
   },
   "file_extension": ".py",
   "mimetype": "text/x-python",
   "name": "python",
   "nbconvert_exporter": "python",
   "pygments_lexer": "ipython3",
   "version": "3.5.4"
  }
 },
 "nbformat": 4,
 "nbformat_minor": 2
}
