{
 "cells": [
  {
   "cell_type": "code",
   "execution_count": 1,
   "metadata": {
    "collapsed": false
   },
   "outputs": [
    {
     "name": "stderr",
     "output_type": "stream",
     "text": [
      "/home/rpang_contact/anaconda3/lib/python3.5/site-packages/ipykernel/__main__.py:6: DeprecationWarning: pycuda.sparse is deprecated. and will be removed in 2015.x\n"
     ]
    }
   ],
   "source": [
    "%reset -f\n",
    "import numpy as np\n",
    "import pycuda.autoinit\n",
    "import pycuda.driver as drv\n",
    "import pycuda.gpuarray as gpuarray\n",
    "from pycuda.sparse.packeted import PacketedSpMV\n",
    "from pycuda.tools import DeviceMemoryPool\n",
    "from scipy.sparse import csr_matrix"
   ]
  },
  {
   "cell_type": "markdown",
   "metadata": {},
   "source": [
    "# Make sure we can detect GPUArray instances"
   ]
  },
  {
   "cell_type": "code",
   "execution_count": 2,
   "metadata": {
    "collapsed": false
   },
   "outputs": [
    {
     "name": "stdout",
     "output_type": "stream",
     "text": [
      "<class 'pycuda.gpuarray.GPUArray'>\n",
      "<class 'pycuda.gpuarray.GPUArray'>\n",
      "GPUArray\n"
     ]
    }
   ],
   "source": [
    "x = np.arange(5)\n",
    "d_x = gpuarray.to_gpu(x)\n",
    "print(type(d_x))\n",
    "print(d_x.__class__)\n",
    "print(d_x.__class__.__name__)"
   ]
  },
  {
   "cell_type": "markdown",
   "metadata": {},
   "source": [
    "# Make sure spmv is storing csr matrix using gpu arrays."
   ]
  },
  {
   "cell_type": "markdown",
   "metadata": {},
   "source": [
    "## Initialize arrays"
   ]
  },
  {
   "cell_type": "code",
   "execution_count": 3,
   "metadata": {
    "collapsed": true
   },
   "outputs": [],
   "source": [
    "dtype = np.float32\n",
    "\n",
    "a_dense = np.array([\n",
    "    [0, 0, 0, 1, 0, 0, 0],\n",
    "    [0, 2, 0, 0, 0, 0, 0],\n",
    "    [0, 0, 4, 0, 0, 0, 3],\n",
    "    [0, 0, 0, 0, 0, 0, 0],\n",
    "    [0, 0, 0, 5, 0, 0, 0],\n",
    "    [1, 0, 0, 2, 4, 0, 0],\n",
    "    [0, 3, 0, 0, 0, 0, 0],\n",
    "], dtype=dtype)\n",
    "a_sparse = csr_matrix(a_dense)\n",
    "\n",
    "a_data = a_sparse.data\n",
    "a_row_ptrs = a_sparse.indptr\n",
    "a_col_idxs = a_sparse.indices\n",
    "\n",
    "b = np.array([[1, 2, 3, 4, 5, 6, 7]], dtype=dtype).T\n",
    "c_correct = np.array([[4, 4, 33, 0, 20, 29, 6]], dtype=dtype).T\n",
    "\n",
    "m = a_sparse.shape[0]\n",
    "n = 1\n",
    "k = a_sparse.shape[1]"
   ]
  },
  {
   "cell_type": "markdown",
   "metadata": {},
   "source": [
    "## Create PacketedSpMV instance"
   ]
  },
  {
   "cell_type": "code",
   "execution_count": 4,
   "metadata": {
    "collapsed": true
   },
   "outputs": [],
   "source": [
    "spmv = PacketedSpMV(a_sparse, is_symmetric=False, dtype=dtype)"
   ]
  },
  {
   "cell_type": "code",
   "execution_count": 5,
   "metadata": {
    "collapsed": false
   },
   "outputs": [
    {
     "name": "stdout",
     "output_type": "stream",
     "text": [
      "__call__ (method)\n",
      "__class__ (type)\n",
      "__delattr__ (method-wrapper)\n",
      "__dict__ (dict)\n",
      "__dir__ (builtin_function_or_method)\n",
      "__doc__ (NoneType)\n",
      "__eq__ (method-wrapper)\n",
      "__format__ (builtin_function_or_method)\n",
      "__ge__ (method-wrapper)\n",
      "__getattribute__ (method-wrapper)\n",
      "__gt__ (method-wrapper)\n",
      "__hash__ (method-wrapper)\n",
      "__init__ (method)\n",
      "__le__ (method-wrapper)\n",
      "__lt__ (method-wrapper)\n",
      "__module__ (str)\n",
      "__ne__ (method-wrapper)\n",
      "__new__ (builtin_function_or_method)\n",
      "__reduce__ (builtin_function_or_method)\n",
      "__reduce_ex__ (builtin_function_or_method)\n",
      "__repr__ (method-wrapper)\n",
      "__setattr__ (method-wrapper)\n",
      "__sizeof__ (builtin_function_or_method)\n",
      "__str__ (method-wrapper)\n",
      "__subclasshook__ (builtin_function_or_method)\n",
      "__weakref__ (NoneType)\n",
      "block_count (int)\n",
      "build_gpu_data_structure (method)\n",
      "data_array (GPUArray)\n",
      "dtype (dtype)\n",
      "find_local_row_costs_and_remaining_coo (method)\n",
      "find_simple_index_stuff (method)\n",
      "find_thread_assignment (method)\n",
      "get_kernel (method)\n",
      "index_array (GPUArray)\n",
      "index_dtype (type)\n",
      "new2old_fetch_indices (GPUArray)\n",
      "old2new_fetch_indices (GPUArray)\n",
      "packed_index_dtype (type)\n",
      "packet_base_rows (GPUArray)\n",
      "permute (method)\n",
      "remaining_coo_gpu (CoordinateSpMV)\n",
      "rows_per_packet (int)\n",
      "shape (tuple)\n",
      "thread_ends (GPUArray)\n",
      "thread_starts (GPUArray)\n",
      "threads_per_packet (int)\n",
      "unpermute (method)\n"
     ]
    }
   ],
   "source": [
    "for attr in dir(spmv):\n",
    "    val = getattr(spmv, attr)\n",
    "    print('{} ({})'.format(attr, type(val).__name__))"
   ]
  },
  {
   "cell_type": "code",
   "execution_count": 6,
   "metadata": {
    "collapsed": false
   },
   "outputs": [
    {
     "name": "stdout",
     "output_type": "stream",
     "text": [
      "data_array (GPUArray) = [ 1.  4.  3. ...,  0.  0.  0.]\n",
      "index_array (GPUArray) = [327680 131074 393217 ...,      0      0      0]\n",
      "new2old_fetch_indices (GPUArray) = [0 1 2 3 4 5 6]\n",
      "old2new_fetch_indices (GPUArray) = [0 1 2 3 4 5 6]\n",
      "packet_base_rows (GPUArray) = [0 7]\n",
      "thread_ends (GPUArray) = [3072 2049 1026 ..., 1021 1022 1023]\n",
      "thread_starts (GPUArray) = [   0    1    2 ..., 1021 1022 1023]\n"
     ]
    }
   ],
   "source": [
    "for attr in dir(spmv):\n",
    "    val = getattr(spmv, attr)\n",
    "    if type(val).__name__.endswith('GPUArray'):\n",
    "        print('{} ({}) = {}'.format(attr, type(val).__name__, val))"
   ]
  },
  {
   "cell_type": "markdown",
   "metadata": {},
   "source": [
    "# Make sure we can correctly calculate the product"
   ]
  },
  {
   "cell_type": "markdown",
   "metadata": {},
   "source": [
    "## Move b to initialize c on GPU"
   ]
  },
  {
   "cell_type": "code",
   "execution_count": 7,
   "metadata": {
    "collapsed": true
   },
   "outputs": [],
   "source": [
    "dev_pool = DeviceMemoryPool()\n",
    "\n",
    "d_b = gpuarray.to_gpu(b, dev_pool.allocate)\n",
    "d_c = gpuarray.zeros(m, dtype=dtype, allocator=d_b.allocator)"
   ]
  },
  {
   "cell_type": "markdown",
   "metadata": {},
   "source": [
    "## Calculate the matrix product"
   ]
  },
  {
   "cell_type": "code",
   "execution_count": 8,
   "metadata": {
    "collapsed": false
   },
   "outputs": [
    {
     "name": "stdout",
     "output_type": "stream",
     "text": [
      "C computed: [  4.   4.  33.   0.  20.  29.   6.]\n",
      "C correct: [  4.   4.  33.   0.  20.  29.   6.]\n"
     ]
    }
   ],
   "source": [
    "d_c = spmv(d_b, d_c)\n",
    "\n",
    "print('C computed: {}'.format(d_c.get().flatten()))\n",
    "print('C correct: {}'.format(c_correct.flatten()))"
   ]
  },
  {
   "cell_type": "markdown",
   "metadata": {},
   "source": [
    "# Run benchmarks"
   ]
  },
  {
   "cell_type": "code",
   "execution_count": 9,
   "metadata": {
    "collapsed": false
   },
   "outputs": [
    {
     "name": "stdout",
     "output_type": "stream",
     "text": [
      "moving objects to GPU...\n",
      "executing spmv operation...\n",
      "C computed: [  4.   4.  33.   0.  20.  29.   6.]\n",
      "C correct:  [  4.   4.  33.   0.  20.  29.   6.]\n"
     ]
    }
   ],
   "source": [
    "%reset -f\n",
    "import numpy as np\n",
    "import pycuda.autoinit\n",
    "import pycuda.driver as drv\n",
    "import pycuda.gpuarray as gpuarray\n",
    "from pycuda.sparse.packeted import PacketedSpMV\n",
    "from pycuda.tools import DeviceMemoryPool\n",
    "from scipy.sparse import csr_matrix\n",
    "from time import time\n",
    "\n",
    "\n",
    "def spmv_cuda(a_sparse, b, count):\n",
    "    \n",
    "    dtype = a_sparse.dtype\n",
    "    m = a_sparse.shape[0]\n",
    "    \n",
    "    print('moving objects to GPU...')\n",
    "    \n",
    "    spmv = PacketedSpMV(a_sparse, is_symmetric=False, dtype=dtype)\n",
    "    \n",
    "    dev_pool = DeviceMemoryPool()\n",
    "    d_b = gpuarray.to_gpu(b, dev_pool.allocate)\n",
    "    d_c = gpuarray.zeros(m, dtype=dtype, allocator=d_b.allocator)\n",
    "    \n",
    "    print('executing spmv operation...')\n",
    "    \n",
    "    tic = time()\n",
    "    for ii in range(count):\n",
    "        d_c = spmv(d_b, d_c)\n",
    "    toc = time()\n",
    "    \n",
    "    return d_c.get(), toc - tic\n",
    "\n",
    "# test\n",
    "dtype_test = np.float32\n",
    "\n",
    "a_dense_test = np.array([\n",
    "    [0, 0, 0, 1, 0, 0, 0],\n",
    "    [0, 2, 0, 0, 0, 0, 0],\n",
    "    [0, 0, 4, 0, 0, 0, 3],\n",
    "    [0, 0, 0, 0, 0, 0, 0],\n",
    "    [0, 0, 0, 5, 0, 0, 0],\n",
    "    [1, 0, 0, 2, 4, 0, 0],\n",
    "    [0, 3, 0, 0, 0, 0, 0],\n",
    "], dtype=dtype_test)\n",
    "a_sparse_test = csr_matrix(a_dense_test)\n",
    "\n",
    "b_test = np.array([[1, 2, 3, 4, 5, 6, 7]], dtype=dtype_test).T\n",
    "c_correct_test = np.array([4, 4, 33, 0, 20, 29, 6], dtype=dtype_test)\n",
    "\n",
    "c_test, _ = spmv_cuda(a_sparse_test, b_test, 1)\n",
    "\n",
    "print('C computed: {}'.format(c_test))\n",
    "print('C correct:  {}'.format(c_correct_test))"
   ]
  },
  {
   "cell_type": "code",
   "execution_count": 10,
   "metadata": {
    "collapsed": false
   },
   "outputs": [
    {
     "name": "stdout",
     "output_type": "stream",
     "text": [
      "Constructing objects...\n",
      "\n",
      "\n",
      "Testing scipy sparse matrix multiplication...\n",
      "\n",
      "c = [ 15.25771141  12.70537472  11.93670082  13.36662292  13.34968376]\n",
      "\n",
      "scipy sparse matrix multiplication took 0.005767107009887695 seconds\n",
      "\n",
      "\n",
      "Testing pycuda sparse matrix multiplication...\n",
      "\n",
      "moving objects to GPU...\n",
      "executing spmv operation...\n",
      "c = [ 305.15444946  254.10742188  238.73440552  267.33282471  266.99331665]\n",
      "\n",
      "pycuda sparse matrix multiplication took 0.0016400814056396484 seconds\n",
      "\n",
      "\n"
     ]
    }
   ],
   "source": [
    "COUNT = 20\n",
    "N = 5000\n",
    "P = 0.01\n",
    "DTYPE = np.float32\n",
    "\n",
    "print('Constructing objects...\\n\\n')\n",
    "np.random.seed(0)\n",
    "a_dense = np.random.rand(N, N).astype(DTYPE)\n",
    "a_dense[np.random.rand(N, N) >= P] = 0\n",
    "a_sparse = csr_matrix(a_dense)\n",
    "\n",
    "b = np.random.rand(N, 1).astype(DTYPE)\n",
    "\n",
    "# scipy sparse\n",
    "print('Testing scipy sparse matrix multiplication...\\n')\n",
    "tic = time()\n",
    "for ii in range(COUNT):\n",
    "    c = b.copy()\n",
    "    c = a_sparse.dot(c)\n",
    "toc = time()\n",
    "\n",
    "print('c = {}\\n'.format(c[:5, 0]))\n",
    "print('scipy sparse matrix multiplication took {} seconds\\n\\n'.format(toc - tic))\n",
    "\n",
    "# pycuda sparse\n",
    "print('Testing pycuda sparse matrix multiplication...\\n')\n",
    "c, t = spmv_cuda(a_sparse, b, COUNT)\n",
    "print('c = {}\\n'.format(c[:5]))\n",
    "print('pycuda sparse matrix multiplication took {} seconds\\n\\n'.format(t))"
   ]
  },
  {
   "cell_type": "code",
   "execution_count": 11,
   "metadata": {
    "collapsed": false
   },
   "outputs": [
    {
     "name": "stdout",
     "output_type": "stream",
     "text": [
      "Constructing objects...\n",
      "\n",
      "\n",
      "Testing scipy sparse matrix multiplication...\n",
      "\n",
      "c = [ 25.78415489  23.56026459  23.96872711  24.0324173   21.68374634]\n",
      "\n",
      "scipy sparse matrix multiplication took 0.02060389518737793 seconds\n",
      "\n",
      "\n",
      "Testing pycuda sparse matrix multiplication...\n",
      "\n",
      "moving objects to GPU...\n"
     ]
    },
    {
     "ename": "TypeError",
     "evalue": "No registered converter was able to produce a C++ rvalue of type int from this Python object of type numpy.int32",
     "output_type": "error",
     "traceback": [
      "\u001b[1;31m---------------------------------------------------------------------------\u001b[0m",
      "\u001b[1;31mTypeError\u001b[0m                                 Traceback (most recent call last)",
      "\u001b[1;32m<ipython-input-11-c19688a2ca20>\u001b[0m in \u001b[0;36m<module>\u001b[1;34m()\u001b[0m\n\u001b[0;32m     25\u001b[0m \u001b[1;31m# pycuda sparse\u001b[0m\u001b[1;33m\u001b[0m\u001b[1;33m\u001b[0m\u001b[0m\n\u001b[0;32m     26\u001b[0m \u001b[0mprint\u001b[0m\u001b[1;33m(\u001b[0m\u001b[1;34m'Testing pycuda sparse matrix multiplication...\\n'\u001b[0m\u001b[1;33m)\u001b[0m\u001b[1;33m\u001b[0m\u001b[0m\n\u001b[1;32m---> 27\u001b[1;33m \u001b[0mc\u001b[0m\u001b[1;33m,\u001b[0m \u001b[0mt\u001b[0m \u001b[1;33m=\u001b[0m \u001b[0mspmv_cuda\u001b[0m\u001b[1;33m(\u001b[0m\u001b[0ma_sparse\u001b[0m\u001b[1;33m,\u001b[0m \u001b[0mb\u001b[0m\u001b[1;33m,\u001b[0m \u001b[0mCOUNT\u001b[0m\u001b[1;33m)\u001b[0m\u001b[1;33m\u001b[0m\u001b[0m\n\u001b[0m\u001b[0;32m     28\u001b[0m \u001b[0mprint\u001b[0m\u001b[1;33m(\u001b[0m\u001b[1;34m'c = {}\\n'\u001b[0m\u001b[1;33m.\u001b[0m\u001b[0mformat\u001b[0m\u001b[1;33m(\u001b[0m\u001b[0mc\u001b[0m\u001b[1;33m[\u001b[0m\u001b[1;33m:\u001b[0m\u001b[1;36m5\u001b[0m\u001b[1;33m]\u001b[0m\u001b[1;33m)\u001b[0m\u001b[1;33m)\u001b[0m\u001b[1;33m\u001b[0m\u001b[0m\n\u001b[0;32m     29\u001b[0m \u001b[0mprint\u001b[0m\u001b[1;33m(\u001b[0m\u001b[1;34m'pycuda sparse matrix multiplication took {} seconds\\n\\n'\u001b[0m\u001b[1;33m.\u001b[0m\u001b[0mformat\u001b[0m\u001b[1;33m(\u001b[0m\u001b[0mt\u001b[0m\u001b[1;33m)\u001b[0m\u001b[1;33m)\u001b[0m\u001b[1;33m\u001b[0m\u001b[0m\n",
      "\u001b[1;32m<ipython-input-9-a824badf2dac>\u001b[0m in \u001b[0;36mspmv_cuda\u001b[1;34m(a_sparse, b, count)\u001b[0m\n\u001b[0;32m     17\u001b[0m     \u001b[0mprint\u001b[0m\u001b[1;33m(\u001b[0m\u001b[1;34m'moving objects to GPU...'\u001b[0m\u001b[1;33m)\u001b[0m\u001b[1;33m\u001b[0m\u001b[0m\n\u001b[0;32m     18\u001b[0m \u001b[1;33m\u001b[0m\u001b[0m\n\u001b[1;32m---> 19\u001b[1;33m     \u001b[0mspmv\u001b[0m \u001b[1;33m=\u001b[0m \u001b[0mPacketedSpMV\u001b[0m\u001b[1;33m(\u001b[0m\u001b[0ma_sparse\u001b[0m\u001b[1;33m,\u001b[0m \u001b[0mis_symmetric\u001b[0m\u001b[1;33m=\u001b[0m\u001b[1;32mFalse\u001b[0m\u001b[1;33m,\u001b[0m \u001b[0mdtype\u001b[0m\u001b[1;33m=\u001b[0m\u001b[0mdtype\u001b[0m\u001b[1;33m)\u001b[0m\u001b[1;33m\u001b[0m\u001b[0m\n\u001b[0m\u001b[0;32m     20\u001b[0m \u001b[1;33m\u001b[0m\u001b[0m\n\u001b[0;32m     21\u001b[0m     \u001b[0mdev_pool\u001b[0m \u001b[1;33m=\u001b[0m \u001b[0mDeviceMemoryPool\u001b[0m\u001b[1;33m(\u001b[0m\u001b[1;33m)\u001b[0m\u001b[1;33m\u001b[0m\u001b[0m\n",
      "\u001b[1;32m/home/rpang_contact/anaconda3/lib/python3.5/site-packages/pycuda/sparse/packeted.py\u001b[0m in \u001b[0;36m__init__\u001b[1;34m(self, mat, is_symmetric, dtype)\u001b[0m\n\u001b[0;32m    125\u001b[0m         \u001b[1;32mwhile\u001b[0m \u001b[1;32mTrue\u001b[0m\u001b[1;33m:\u001b[0m\u001b[1;33m\u001b[0m\u001b[0m\n\u001b[0;32m    126\u001b[0m             cut_count, dof_to_packet_nr = part_graph(int(self.block_count),\n\u001b[1;32m--> 127\u001b[1;33m                     xadj=adj_mat.indptr, adjncy=adj_mat.indices)\n\u001b[0m\u001b[0;32m    128\u001b[0m \u001b[1;33m\u001b[0m\u001b[0m\n\u001b[0;32m    129\u001b[0m             \u001b[1;31m# build packet_nr_to_dofs\u001b[0m\u001b[1;33m\u001b[0m\u001b[1;33m\u001b[0m\u001b[0m\n",
      "\u001b[1;32m/home/rpang_contact/anaconda3/lib/python3.5/site-packages/pymetis/__init__.py\u001b[0m in \u001b[0;36mpart_graph\u001b[1;34m(nparts, adjacency, xadj, adjncy, vweights, eweights, recursive)\u001b[0m\n\u001b[0;32m    118\u001b[0m         \u001b[1;32mreturn\u001b[0m \u001b[1;36m0\u001b[0m\u001b[1;33m,\u001b[0m \u001b[1;33m[\u001b[0m\u001b[1;36m0\u001b[0m\u001b[1;33m]\u001b[0m \u001b[1;33m*\u001b[0m \u001b[1;33m(\u001b[0m\u001b[0mlen\u001b[0m\u001b[1;33m(\u001b[0m\u001b[0mxadj\u001b[0m\u001b[1;33m)\u001b[0m\u001b[1;33m-\u001b[0m\u001b[1;36m1\u001b[0m\u001b[1;33m)\u001b[0m\u001b[1;33m\u001b[0m\u001b[0m\n\u001b[0;32m    119\u001b[0m \u001b[1;33m\u001b[0m\u001b[0m\n\u001b[1;32m--> 120\u001b[1;33m     \u001b[1;32mreturn\u001b[0m \u001b[0mpart_graph\u001b[0m\u001b[1;33m(\u001b[0m\u001b[0mnparts\u001b[0m\u001b[1;33m,\u001b[0m \u001b[0mxadj\u001b[0m\u001b[1;33m,\u001b[0m \u001b[0madjncy\u001b[0m\u001b[1;33m,\u001b[0m \u001b[0mvweights\u001b[0m\u001b[1;33m,\u001b[0m \u001b[0meweights\u001b[0m\u001b[1;33m,\u001b[0m \u001b[0mrecursive\u001b[0m\u001b[1;33m)\u001b[0m\u001b[1;33m\u001b[0m\u001b[0m\n\u001b[0m",
      "\u001b[1;31mTypeError\u001b[0m: No registered converter was able to produce a C++ rvalue of type int from this Python object of type numpy.int32"
     ]
    }
   ],
   "source": [
    "COUNT = 20\n",
    "N = 10000\n",
    "P = 0.01\n",
    "DTYPE = np.float32\n",
    "\n",
    "print('Constructing objects...\\n\\n')\n",
    "np.random.seed(0)\n",
    "a_dense = np.random.rand(N, N).astype(DTYPE)\n",
    "a_dense[np.random.rand(N, N) >= P] = 0\n",
    "a_sparse = csr_matrix(a_dense)\n",
    "\n",
    "b = np.random.rand(N, 1).astype(DTYPE)\n",
    "\n",
    "# scipy sparse\n",
    "print('Testing scipy sparse matrix multiplication...\\n')\n",
    "tic = time()\n",
    "for ii in range(COUNT):\n",
    "    c = b.copy()\n",
    "    c = a_sparse.dot(c)\n",
    "toc = time()\n",
    "\n",
    "print('c = {}\\n'.format(c[:5, 0]))\n",
    "print('scipy sparse matrix multiplication took {} seconds\\n\\n'.format(toc - tic))\n",
    "\n",
    "# pycuda sparse\n",
    "print('Testing pycuda sparse matrix multiplication...\\n')\n",
    "c, t = spmv_cuda(a_sparse, b, COUNT)\n",
    "print('c = {}\\n'.format(c[:5]))\n",
    "print('pycuda sparse matrix multiplication took {} seconds\\n\\n'.format(t))"
   ]
  }
 ],
 "metadata": {
  "kernelspec": {
   "display_name": "Python 3",
   "language": "python",
   "name": "python3"
  },
  "language_info": {
   "codemirror_mode": {
    "name": "ipython",
    "version": 3
   },
   "file_extension": ".py",
   "mimetype": "text/x-python",
   "name": "python",
   "nbconvert_exporter": "python",
   "pygments_lexer": "ipython3",
   "version": "3.5.4"
  }
 },
 "nbformat": 4,
 "nbformat_minor": 2
}
