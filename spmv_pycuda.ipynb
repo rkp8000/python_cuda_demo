{
 "cells": [
  {
   "cell_type": "code",
   "execution_count": 1,
   "metadata": {
    "collapsed": false
   },
   "outputs": [
    {
     "name": "stderr",
     "output_type": "stream",
     "text": [
      "/home/rpang_contact/anaconda3/lib/python3.5/site-packages/ipykernel/__main__.py:6: DeprecationWarning: pycuda.sparse is deprecated. and will be removed in 2015.x\n"
     ]
    }
   ],
   "source": [
    "%reset -f\n",
    "import numpy as np\n",
    "import pycuda.autoinit\n",
    "import pycuda.driver as drv\n",
    "import pycuda.gpuarray as gpuarray\n",
    "from pycuda.sparse.packeted import PacketedSpMV\n",
    "from pycuda.tools import DeviceMemoryPool\n",
    "from scipy.sparse import csr_matrix"
   ]
  },
  {
   "cell_type": "markdown",
   "metadata": {},
   "source": [
    "# Make sure we can detect GPUArray instances"
   ]
  },
  {
   "cell_type": "code",
   "execution_count": 2,
   "metadata": {
    "collapsed": false
   },
   "outputs": [
    {
     "name": "stdout",
     "output_type": "stream",
     "text": [
      "<class 'pycuda.gpuarray.GPUArray'>\n",
      "<class 'pycuda.gpuarray.GPUArray'>\n",
      "GPUArray\n"
     ]
    }
   ],
   "source": [
    "x = np.arange(5)\n",
    "d_x = gpuarray.to_gpu(x)\n",
    "print(type(d_x))\n",
    "print(d_x.__class__)\n",
    "print(d_x.__class__.__name__)"
   ]
  },
  {
   "cell_type": "markdown",
   "metadata": {},
   "source": [
    "# Make sure spmv is storing csr matrix using gpu arrays."
   ]
  },
  {
   "cell_type": "markdown",
   "metadata": {},
   "source": [
    "## Initialize arrays"
   ]
  },
  {
   "cell_type": "code",
   "execution_count": 3,
   "metadata": {
    "collapsed": true
   },
   "outputs": [],
   "source": [
    "dtype = np.float32\n",
    "\n",
    "a_dense = np.array([\n",
    "    [0, 0, 0, 1, 0, 0, 0],\n",
    "    [0, 2, 0, 0, 0, 0, 0],\n",
    "    [0, 0, 4, 0, 0, 0, 3],\n",
    "    [0, 0, 0, 0, 0, 0, 0],\n",
    "    [0, 0, 0, 5, 0, 0, 0],\n",
    "    [1, 0, 0, 2, 4, 0, 0],\n",
    "    [0, 3, 0, 0, 0, 0, 0],\n",
    "], dtype=dtype)\n",
    "a_sparse = csr_matrix(a_dense)\n",
    "\n",
    "a_data = a_sparse.data\n",
    "a_row_ptrs = a_sparse.indptr\n",
    "a_col_idxs = a_sparse.indices\n",
    "\n",
    "b = np.array([[1, 2, 3, 4, 5, 6, 7]], dtype=dtype).T\n",
    "c_correct = np.array([[4, 4, 33, 0, 20, 29, 6]], dtype=dtype).T\n",
    "\n",
    "m = a_sparse.shape[0]\n",
    "n = 1\n",
    "k = a_sparse.shape[1]"
   ]
  },
  {
   "cell_type": "markdown",
   "metadata": {},
   "source": [
    "## Create PacketedSpMV instance"
   ]
  },
  {
   "cell_type": "code",
   "execution_count": 4,
   "metadata": {
    "collapsed": false
   },
   "outputs": [
    {
     "name": "stdout",
     "output_type": "stream",
     "text": [
      "cut count: 0\n",
      "frac. 1s in dof_to_packet_nr: 0.0\n"
     ]
    }
   ],
   "source": [
    "spmv = PacketedSpMV(a_sparse, is_symmetric=False, dtype=dtype)"
   ]
  },
  {
   "cell_type": "code",
   "execution_count": 5,
   "metadata": {
    "collapsed": false
   },
   "outputs": [
    {
     "name": "stdout",
     "output_type": "stream",
     "text": [
      "__call__ (method)\n",
      "__class__ (type)\n",
      "__delattr__ (method-wrapper)\n",
      "__dict__ (dict)\n",
      "__dir__ (builtin_function_or_method)\n",
      "__doc__ (NoneType)\n",
      "__eq__ (method-wrapper)\n",
      "__format__ (builtin_function_or_method)\n",
      "__ge__ (method-wrapper)\n",
      "__getattribute__ (method-wrapper)\n",
      "__gt__ (method-wrapper)\n",
      "__hash__ (method-wrapper)\n",
      "__init__ (method)\n",
      "__le__ (method-wrapper)\n",
      "__lt__ (method-wrapper)\n",
      "__module__ (str)\n",
      "__ne__ (method-wrapper)\n",
      "__new__ (builtin_function_or_method)\n",
      "__reduce__ (builtin_function_or_method)\n",
      "__reduce_ex__ (builtin_function_or_method)\n",
      "__repr__ (method-wrapper)\n",
      "__setattr__ (method-wrapper)\n",
      "__sizeof__ (builtin_function_or_method)\n",
      "__str__ (method-wrapper)\n",
      "__subclasshook__ (builtin_function_or_method)\n",
      "__weakref__ (NoneType)\n",
      "block_count (int)\n",
      "build_gpu_data_structure (method)\n",
      "data_array (GPUArray)\n",
      "dtype (dtype)\n",
      "find_local_row_costs_and_remaining_coo (method)\n",
      "find_simple_index_stuff (method)\n",
      "find_thread_assignment (method)\n",
      "get_kernel (method)\n",
      "index_array (GPUArray)\n",
      "index_dtype (type)\n",
      "new2old_fetch_indices (GPUArray)\n",
      "old2new_fetch_indices (GPUArray)\n",
      "packed_index_dtype (type)\n",
      "packet_base_rows (GPUArray)\n",
      "permute (method)\n",
      "remaining_coo_gpu (CoordinateSpMV)\n",
      "rows_per_packet (int)\n",
      "shape (tuple)\n",
      "thread_ends (GPUArray)\n",
      "thread_starts (GPUArray)\n",
      "threads_per_packet (int)\n",
      "unpermute (method)\n"
     ]
    }
   ],
   "source": [
    "for attr in dir(spmv):\n",
    "    val = getattr(spmv, attr)\n",
    "    print('{} ({})'.format(attr, type(val).__name__))"
   ]
  },
  {
   "cell_type": "code",
   "execution_count": 6,
   "metadata": {
    "collapsed": false
   },
   "outputs": [
    {
     "name": "stdout",
     "output_type": "stream",
     "text": [
      "data_array (GPUArray) = [ 1.  4.  3. ...,  0.  0.  0.]\n",
      "index_array (GPUArray) = [327680 131074 393217 ...,      0      0      0]\n",
      "new2old_fetch_indices (GPUArray) = [0 1 2 3 4 5 6]\n",
      "old2new_fetch_indices (GPUArray) = [0 1 2 3 4 5 6]\n",
      "packet_base_rows (GPUArray) = [0 7]\n",
      "thread_ends (GPUArray) = [3072 2049 1026 ..., 1021 1022 1023]\n",
      "thread_starts (GPUArray) = [   0    1    2 ..., 1021 1022 1023]\n"
     ]
    }
   ],
   "source": [
    "for attr in dir(spmv):\n",
    "    val = getattr(spmv, attr)\n",
    "    if type(val).__name__.endswith('GPUArray'):\n",
    "        print('{} ({}) = {}'.format(attr, type(val).__name__, val))"
   ]
  },
  {
   "cell_type": "markdown",
   "metadata": {},
   "source": [
    "# Make sure we can correctly calculate the product"
   ]
  },
  {
   "cell_type": "markdown",
   "metadata": {},
   "source": [
    "## Move b to initialize c on GPU"
   ]
  },
  {
   "cell_type": "code",
   "execution_count": 7,
   "metadata": {
    "collapsed": true
   },
   "outputs": [],
   "source": [
    "dev_pool = DeviceMemoryPool()\n",
    "\n",
    "d_b = gpuarray.to_gpu(b, dev_pool.allocate)\n",
    "d_c = gpuarray.zeros(m, dtype=dtype, allocator=d_b.allocator)"
   ]
  },
  {
   "cell_type": "markdown",
   "metadata": {},
   "source": [
    "## Calculate the matrix product"
   ]
  },
  {
   "cell_type": "code",
   "execution_count": 8,
   "metadata": {
    "collapsed": false
   },
   "outputs": [
    {
     "name": "stdout",
     "output_type": "stream",
     "text": [
      "C computed: [  4.   4.  33.   0.  20.  29.   6.]\n",
      "C correct: [  4.   4.  33.   0.  20.  29.   6.]\n"
     ]
    }
   ],
   "source": [
    "d_c = spmv(d_b, d_c)\n",
    "\n",
    "print('C computed: {}'.format(d_c.get().flatten()))\n",
    "print('C correct: {}'.format(c_correct.flatten()))"
   ]
  },
  {
   "cell_type": "markdown",
   "metadata": {},
   "source": [
    "# Run benchmarks"
   ]
  },
  {
   "cell_type": "code",
   "execution_count": 9,
   "metadata": {
    "collapsed": false
   },
   "outputs": [
    {
     "name": "stdout",
     "output_type": "stream",
     "text": [
      "moving objects to GPU...\n",
      "cut count: 0\n",
      "frac. 1s in dof_to_packet_nr: 0.0\n",
      "executing spmv operation...\n",
      "\n",
      "C computed: [  4.   4.  33.   0.  20.  29.   6.]\n",
      "C correct:  [  4.   4.  33.   0.  20.  29.   6.]\n"
     ]
    }
   ],
   "source": [
    "%reset -f\n",
    "import numpy as np\n",
    "import pycuda.autoinit\n",
    "import pycuda.driver as drv\n",
    "import pycuda.gpuarray as gpuarray\n",
    "from pycuda.sparse.packeted import PacketedSpMV\n",
    "from pycuda.tools import DeviceMemoryPool\n",
    "from scipy.sparse import csr_matrix\n",
    "from time import time\n",
    "\n",
    "\n",
    "def spmv_cuda(a_sparse, b, count):\n",
    "    \n",
    "    dtype = a_sparse.dtype\n",
    "    m = a_sparse.shape[0]\n",
    "    \n",
    "    print('moving objects to GPU...')\n",
    "    \n",
    "    spmv = PacketedSpMV(a_sparse, is_symmetric=False, dtype=dtype)\n",
    "    \n",
    "    dev_pool = DeviceMemoryPool()\n",
    "    d_b = gpuarray.to_gpu(b, dev_pool.allocate)\n",
    "    d_c = gpuarray.zeros(m, dtype=dtype, allocator=d_b.allocator)\n",
    "    \n",
    "    print('executing spmv operation...\\n')\n",
    "    \n",
    "    tic = time()\n",
    "    for ii in range(count):\n",
    "        d_c.fill(0)\n",
    "        d_c = spmv(d_b, d_c)\n",
    "    toc = time()\n",
    "    \n",
    "    return d_c.get(), toc - tic\n",
    "\n",
    "# test\n",
    "dtype_test = np.float32\n",
    "\n",
    "a_dense_test = np.array([\n",
    "    [0, 0, 0, 1, 0, 0, 0],\n",
    "    [0, 2, 0, 0, 0, 0, 0],\n",
    "    [0, 0, 4, 0, 0, 0, 3],\n",
    "    [0, 0, 0, 0, 0, 0, 0],\n",
    "    [0, 0, 0, 5, 0, 0, 0],\n",
    "    [1, 0, 0, 2, 4, 0, 0],\n",
    "    [0, 3, 0, 0, 0, 0, 0],\n",
    "], dtype=dtype_test)\n",
    "a_sparse_test = csr_matrix(a_dense_test)\n",
    "\n",
    "b_test = np.array([[1, 2, 3, 4, 5, 6, 7]], dtype=dtype_test).T\n",
    "c_correct_test = np.array([4, 4, 33, 0, 20, 29, 6], dtype=dtype_test)\n",
    "\n",
    "c_test, _ = spmv_cuda(a_sparse_test, b_test, 4)\n",
    "\n",
    "print('C computed: {}'.format(c_test))\n",
    "print('C correct:  {}'.format(c_correct_test))"
   ]
  },
  {
   "cell_type": "code",
   "execution_count": 10,
   "metadata": {
    "collapsed": false
   },
   "outputs": [
    {
     "name": "stdout",
     "output_type": "stream",
     "text": [
      "Constructing objects...\n",
      "\n",
      "\n",
      "numpy dense matrix multiplication took 0.2755134105682373 seconds\n",
      "\n",
      "\n",
      "c[:5, 0] = [ 122.29483032  127.83660126  128.75003052  130.69122314  124.98326111]\n",
      "\n",
      "scipy sparse matrix multiplication took 0.2819645404815674 seconds\n",
      "\n",
      "\n",
      "c[:5, 0] = [ 122.29484558  127.83656311  128.75004578  130.69120789  124.98323059]\n",
      "\n",
      "moving objects to GPU...\n",
      "cut count: 0\n",
      "frac. 1s in dof_to_packet_nr: 0.0\n",
      "executing spmv operation...\n",
      "\n",
      "pycuda sparse matrix multiplication took 0.004721164703369141 seconds\n",
      "\n",
      "\n",
      "c[:5, 0] = [ 122.29484558  127.83656311  128.75004578  130.69119263  124.98322296]\n",
      "\n"
     ]
    }
   ],
   "source": [
    "COUNT = 100\n",
    "N = 5000\n",
    "P = 0.1\n",
    "DTYPE = np.float32\n",
    "\n",
    "print('Constructing objects...\\n\\n')\n",
    "np.random.seed(0)\n",
    "a_dense = np.random.rand(N, N).astype(DTYPE)\n",
    "a_dense[np.random.rand(N, N) >= P] = 0\n",
    "a_sparse = csr_matrix(a_dense)\n",
    "\n",
    "b = np.random.rand(N, 1).astype(DTYPE)\n",
    "\n",
    "# numpy dense\n",
    "tic = time()\n",
    "for ii in range(COUNT):\n",
    "    c = np.dot(a_dense, b)\n",
    "toc = time()\n",
    "\n",
    "print('numpy dense matrix multiplication took {} seconds\\n\\n'.format(toc - tic))\n",
    "print('c[:5, 0] = {}\\n'.format(c[:5, 0]))\n",
    "\n",
    "# scipy sparse\n",
    "tic = time()\n",
    "for ii in range(COUNT):\n",
    "    c = a_sparse.dot(b)\n",
    "toc = time()\n",
    "\n",
    "print('scipy sparse matrix multiplication took {} seconds\\n\\n'.format(toc - tic))\n",
    "print('c[:5, 0] = {}\\n'.format(c[:5, 0]))\n",
    "\n",
    "# pycuda sparse\n",
    "c, t = spmv_cuda(a_sparse, b, COUNT)\n",
    "print('pycuda sparse matrix multiplication took {} seconds\\n\\n'.format(t))\n",
    "print('c[:5, 0] = {}\\n'.format(c[:5]))"
   ]
  },
  {
   "cell_type": "code",
   "execution_count": 11,
   "metadata": {
    "collapsed": false
   },
   "outputs": [
    {
     "name": "stdout",
     "output_type": "stream",
     "text": [
      "Constructing objects...\n",
      "\n",
      "\n",
      "numpy dense matrix multiplication took 0.7422385215759277 seconds\n",
      "\n",
      "\n",
      "c[:5, 0] = [ 187.68902588  199.87187195  201.48733521  189.70402527  200.22854614]\n",
      "\n",
      "scipy sparse matrix multiplication took 0.7510614395141602 seconds\n",
      "\n",
      "\n",
      "c[:5, 0] = [ 187.68899536  199.87187195  201.48744202  189.70411682  200.22845459]\n",
      "\n",
      "moving objects to GPU...\n",
      "cut count: 2940115\n",
      "frac. 1s in dof_to_packet_nr: 0.5\n",
      "executing spmv operation...\n",
      "\n"
     ]
    },
    {
     "ename": "CompileError",
     "evalue": "nvcc compilation of /tmp/tmp9exy0aqq/kernel.cu failed\n[command: nvcc --cubin -arch sm_37 -I/home/rpang_contact/anaconda3/lib/python3.5/site-packages/pycuda/cuda kernel.cu]\n[stderr:\nkernel.cu(13): error: function \"atomicAdd(float *, float)\" has already been defined\n\n1 error detected in the compilation of \"/tmp/tmpxft_00000a3a_00000000-7_kernel.cpp1.ii\".\n]",
     "output_type": "error",
     "traceback": [
      "\u001b[1;31m---------------------------------------------------------------------------\u001b[0m",
      "\u001b[1;31mAttributeError\u001b[0m                            Traceback (most recent call last)",
      "\u001b[1;32m/home/rpang_contact/anaconda3/lib/python3.5/site-packages/pytools/__init__.py\u001b[0m in \u001b[0;36mwrapper\u001b[1;34m(obj, *args, **kwargs)\u001b[0m\n\u001b[0;32m    575\u001b[0m         \u001b[1;32mtry\u001b[0m\u001b[1;33m:\u001b[0m\u001b[1;33m\u001b[0m\u001b[0m\n\u001b[1;32m--> 576\u001b[1;33m             \u001b[1;32mreturn\u001b[0m \u001b[0mgetattr\u001b[0m\u001b[1;33m(\u001b[0m\u001b[0mobj\u001b[0m\u001b[1;33m,\u001b[0m \u001b[0mcache_dict_name\u001b[0m\u001b[1;33m)\u001b[0m\u001b[1;33m[\u001b[0m\u001b[0mkey\u001b[0m\u001b[1;33m]\u001b[0m\u001b[1;33m\u001b[0m\u001b[0m\n\u001b[0m\u001b[0;32m    577\u001b[0m         \u001b[1;32mexcept\u001b[0m \u001b[0mAttributeError\u001b[0m\u001b[1;33m:\u001b[0m\u001b[1;33m\u001b[0m\u001b[0m\n",
      "\u001b[1;31mAttributeError\u001b[0m: 'CoordinateSpMV' object has no attribute '_memoize_dic_get_flat_kernel'",
      "\nDuring handling of the above exception, another exception occurred:\n",
      "\u001b[1;31mCompileError\u001b[0m                              Traceback (most recent call last)",
      "\u001b[1;32m<ipython-input-11-77c5428e0508>\u001b[0m in \u001b[0;36m<module>\u001b[1;34m()\u001b[0m\n\u001b[0;32m     33\u001b[0m \u001b[1;33m\u001b[0m\u001b[0m\n\u001b[0;32m     34\u001b[0m \u001b[1;31m# pycuda sparse\u001b[0m\u001b[1;33m\u001b[0m\u001b[1;33m\u001b[0m\u001b[0m\n\u001b[1;32m---> 35\u001b[1;33m \u001b[0mc\u001b[0m\u001b[1;33m,\u001b[0m \u001b[0mt\u001b[0m \u001b[1;33m=\u001b[0m \u001b[0mspmv_cuda\u001b[0m\u001b[1;33m(\u001b[0m\u001b[0ma_sparse\u001b[0m\u001b[1;33m,\u001b[0m \u001b[0mb\u001b[0m\u001b[1;33m,\u001b[0m \u001b[0mCOUNT\u001b[0m\u001b[1;33m)\u001b[0m\u001b[1;33m\u001b[0m\u001b[0m\n\u001b[0m\u001b[0;32m     36\u001b[0m \u001b[0mprint\u001b[0m\u001b[1;33m(\u001b[0m\u001b[1;34m'pycuda sparse matrix multiplication took {} seconds\\n\\n'\u001b[0m\u001b[1;33m.\u001b[0m\u001b[0mformat\u001b[0m\u001b[1;33m(\u001b[0m\u001b[0mt\u001b[0m\u001b[1;33m)\u001b[0m\u001b[1;33m)\u001b[0m\u001b[1;33m\u001b[0m\u001b[0m\n\u001b[0;32m     37\u001b[0m \u001b[0mprint\u001b[0m\u001b[1;33m(\u001b[0m\u001b[1;34m'c[:5, 0] = {}\\n'\u001b[0m\u001b[1;33m.\u001b[0m\u001b[0mformat\u001b[0m\u001b[1;33m(\u001b[0m\u001b[0mc\u001b[0m\u001b[1;33m[\u001b[0m\u001b[1;33m:\u001b[0m\u001b[1;36m5\u001b[0m\u001b[1;33m]\u001b[0m\u001b[1;33m)\u001b[0m\u001b[1;33m)\u001b[0m\u001b[1;33m\u001b[0m\u001b[0m\n",
      "\u001b[1;32m<ipython-input-9-eb8f06754c1b>\u001b[0m in \u001b[0;36mspmv_cuda\u001b[1;34m(a_sparse, b, count)\u001b[0m\n\u001b[0;32m     28\u001b[0m     \u001b[1;32mfor\u001b[0m \u001b[0mii\u001b[0m \u001b[1;32min\u001b[0m \u001b[0mrange\u001b[0m\u001b[1;33m(\u001b[0m\u001b[0mcount\u001b[0m\u001b[1;33m)\u001b[0m\u001b[1;33m:\u001b[0m\u001b[1;33m\u001b[0m\u001b[0m\n\u001b[0;32m     29\u001b[0m         \u001b[0md_c\u001b[0m\u001b[1;33m.\u001b[0m\u001b[0mfill\u001b[0m\u001b[1;33m(\u001b[0m\u001b[1;36m0\u001b[0m\u001b[1;33m)\u001b[0m\u001b[1;33m\u001b[0m\u001b[0m\n\u001b[1;32m---> 30\u001b[1;33m         \u001b[0md_c\u001b[0m \u001b[1;33m=\u001b[0m \u001b[0mspmv\u001b[0m\u001b[1;33m(\u001b[0m\u001b[0md_b\u001b[0m\u001b[1;33m,\u001b[0m \u001b[0md_c\u001b[0m\u001b[1;33m)\u001b[0m\u001b[1;33m\u001b[0m\u001b[0m\n\u001b[0m\u001b[0;32m     31\u001b[0m     \u001b[0mtoc\u001b[0m \u001b[1;33m=\u001b[0m \u001b[0mtime\u001b[0m\u001b[1;33m(\u001b[0m\u001b[1;33m)\u001b[0m\u001b[1;33m\u001b[0m\u001b[0m\n\u001b[0;32m     32\u001b[0m \u001b[1;33m\u001b[0m\u001b[0m\n",
      "\u001b[1;32m/home/rpang_contact/anaconda3/lib/python3.5/site-packages/pycuda/sparse/packeted.py\u001b[0m in \u001b[0;36m__call__\u001b[1;34m(self, x, y)\u001b[0m\n\u001b[0;32m    340\u001b[0m                 y.gpudata)\n\u001b[0;32m    341\u001b[0m \u001b[1;33m\u001b[0m\u001b[0m\n\u001b[1;32m--> 342\u001b[1;33m         \u001b[0mself\u001b[0m\u001b[1;33m.\u001b[0m\u001b[0mremaining_coo_gpu\u001b[0m\u001b[1;33m(\u001b[0m\u001b[0mx\u001b[0m\u001b[1;33m,\u001b[0m \u001b[0my\u001b[0m\u001b[1;33m)\u001b[0m\u001b[1;33m\u001b[0m\u001b[0m\n\u001b[0m\u001b[0;32m    343\u001b[0m \u001b[1;33m\u001b[0m\u001b[0m\n\u001b[0;32m    344\u001b[0m         \u001b[1;32mreturn\u001b[0m \u001b[0my\u001b[0m\u001b[1;33m\u001b[0m\u001b[0m\n",
      "\u001b[1;32m/home/rpang_contact/anaconda3/lib/python3.5/site-packages/pycuda/sparse/coordinate.py\u001b[0m in \u001b[0;36m__call__\u001b[1;34m(self, x, y)\u001b[0m\n\u001b[0;32m    221\u001b[0m             \u001b[1;32mreturn\u001b[0m \u001b[0my\u001b[0m\u001b[1;33m\u001b[0m\u001b[0m\n\u001b[0;32m    222\u001b[0m \u001b[1;33m\u001b[0m\u001b[0m\n\u001b[1;32m--> 223\u001b[1;33m         \u001b[0mflat_func\u001b[0m\u001b[1;33m,\u001b[0m \u001b[0mx_texref\u001b[0m \u001b[1;33m=\u001b[0m \u001b[0mself\u001b[0m\u001b[1;33m.\u001b[0m\u001b[0mget_flat_kernel\u001b[0m\u001b[1;33m(\u001b[0m\u001b[1;33m)\u001b[0m\u001b[1;33m\u001b[0m\u001b[0m\n\u001b[0m\u001b[0;32m    224\u001b[0m         \u001b[0mx\u001b[0m\u001b[1;33m.\u001b[0m\u001b[0mbind_to_texref_ext\u001b[0m\u001b[1;33m(\u001b[0m\u001b[0mx_texref\u001b[0m\u001b[1;33m,\u001b[0m \u001b[0mallow_double_hack\u001b[0m\u001b[1;33m=\u001b[0m\u001b[1;32mTrue\u001b[0m\u001b[1;33m)\u001b[0m\u001b[1;33m\u001b[0m\u001b[0m\n\u001b[0;32m    225\u001b[0m         flat_func.prepared_call((self.num_blocks, 1),\n",
      "\u001b[1;32m/home/rpang_contact/anaconda3/lib/python3.5/site-packages/pytools/__init__.py\u001b[0m in \u001b[0;36mwrapper\u001b[1;34m(obj, *args, **kwargs)\u001b[0m\n\u001b[0;32m    576\u001b[0m             \u001b[1;32mreturn\u001b[0m \u001b[0mgetattr\u001b[0m\u001b[1;33m(\u001b[0m\u001b[0mobj\u001b[0m\u001b[1;33m,\u001b[0m \u001b[0mcache_dict_name\u001b[0m\u001b[1;33m)\u001b[0m\u001b[1;33m[\u001b[0m\u001b[0mkey\u001b[0m\u001b[1;33m]\u001b[0m\u001b[1;33m\u001b[0m\u001b[0m\n\u001b[0;32m    577\u001b[0m         \u001b[1;32mexcept\u001b[0m \u001b[0mAttributeError\u001b[0m\u001b[1;33m:\u001b[0m\u001b[1;33m\u001b[0m\u001b[0m\n\u001b[1;32m--> 578\u001b[1;33m             \u001b[0mresult\u001b[0m \u001b[1;33m=\u001b[0m \u001b[0mfunction\u001b[0m\u001b[1;33m(\u001b[0m\u001b[0mobj\u001b[0m\u001b[1;33m,\u001b[0m \u001b[1;33m*\u001b[0m\u001b[0margs\u001b[0m\u001b[1;33m,\u001b[0m \u001b[1;33m**\u001b[0m\u001b[0mkwargs\u001b[0m\u001b[1;33m)\u001b[0m\u001b[1;33m\u001b[0m\u001b[0m\n\u001b[0m\u001b[0;32m    579\u001b[0m             \u001b[0msetattr\u001b[0m\u001b[1;33m(\u001b[0m\u001b[0mobj\u001b[0m\u001b[1;33m,\u001b[0m \u001b[0mcache_dict_name\u001b[0m\u001b[1;33m,\u001b[0m \u001b[1;33m{\u001b[0m\u001b[0mkey\u001b[0m\u001b[1;33m:\u001b[0m \u001b[0mresult\u001b[0m\u001b[1;33m}\u001b[0m\u001b[1;33m)\u001b[0m\u001b[1;33m\u001b[0m\u001b[0m\n\u001b[0;32m    580\u001b[0m             \u001b[1;32mreturn\u001b[0m \u001b[0mresult\u001b[0m\u001b[1;33m\u001b[0m\u001b[0m\n",
      "\u001b[1;32m/home/rpang_contact/anaconda3/lib/python3.5/site-packages/pycuda/sparse/coordinate.py\u001b[0m in \u001b[0;36mget_flat_kernel\u001b[1;34m(self)\u001b[0m\n\u001b[0;32m    192\u001b[0m                     \u001b[1;34m\"index_type\"\u001b[0m\u001b[1;33m:\u001b[0m \u001b[0mdtype_to_ctype\u001b[0m\u001b[1;33m(\u001b[0m\u001b[0mself\u001b[0m\u001b[1;33m.\u001b[0m\u001b[0mindex_dtype\u001b[0m\u001b[1;33m)\u001b[0m\u001b[1;33m,\u001b[0m\u001b[1;33m\u001b[0m\u001b[0m\n\u001b[0;32m    193\u001b[0m                     \u001b[1;34m\"block_size\"\u001b[0m\u001b[1;33m:\u001b[0m \u001b[0mself\u001b[0m\u001b[1;33m.\u001b[0m\u001b[0mblock_size\u001b[0m\u001b[1;33m,\u001b[0m\u001b[1;33m\u001b[0m\u001b[0m\n\u001b[1;32m--> 194\u001b[1;33m                     \u001b[1;34m\"warp_size\"\u001b[0m\u001b[1;33m:\u001b[0m \u001b[0mdrv\u001b[0m\u001b[1;33m.\u001b[0m\u001b[0mContext\u001b[0m\u001b[1;33m.\u001b[0m\u001b[0mget_device\u001b[0m\u001b[1;33m(\u001b[0m\u001b[1;33m)\u001b[0m\u001b[1;33m.\u001b[0m\u001b[0mwarp_size\u001b[0m\u001b[1;33m,\u001b[0m\u001b[1;33m\u001b[0m\u001b[0m\n\u001b[0m\u001b[0;32m    195\u001b[0m                     })\n\u001b[0;32m    196\u001b[0m         \u001b[0mfunc\u001b[0m \u001b[1;33m=\u001b[0m \u001b[0mmod\u001b[0m\u001b[1;33m.\u001b[0m\u001b[0mget_function\u001b[0m\u001b[1;33m(\u001b[0m\u001b[1;34m\"spmv_coo_flat_kernel\"\u001b[0m\u001b[1;33m)\u001b[0m\u001b[1;33m\u001b[0m\u001b[0m\n",
      "\u001b[1;32m/home/rpang_contact/anaconda3/lib/python3.5/site-packages/pycuda/compiler.py\u001b[0m in \u001b[0;36m__init__\u001b[1;34m(self, source, nvcc, options, keep, no_extern_c, arch, code, cache_dir, include_dirs)\u001b[0m\n\u001b[0;32m    289\u001b[0m \u001b[1;33m\u001b[0m\u001b[0m\n\u001b[0;32m    290\u001b[0m         cubin = compile(source, nvcc, options, keep, no_extern_c,\n\u001b[1;32m--> 291\u001b[1;33m                 arch, code, cache_dir, include_dirs)\n\u001b[0m\u001b[0;32m    292\u001b[0m \u001b[1;33m\u001b[0m\u001b[0m\n\u001b[0;32m    293\u001b[0m         \u001b[1;32mfrom\u001b[0m \u001b[0mpycuda\u001b[0m\u001b[1;33m.\u001b[0m\u001b[0mdriver\u001b[0m \u001b[1;32mimport\u001b[0m \u001b[0mmodule_from_buffer\u001b[0m\u001b[1;33m\u001b[0m\u001b[0m\n",
      "\u001b[1;32m/home/rpang_contact/anaconda3/lib/python3.5/site-packages/pycuda/compiler.py\u001b[0m in \u001b[0;36mcompile\u001b[1;34m(source, nvcc, options, keep, no_extern_c, arch, code, cache_dir, include_dirs, target)\u001b[0m\n\u001b[0;32m    253\u001b[0m         \u001b[0moptions\u001b[0m\u001b[1;33m.\u001b[0m\u001b[0mappend\u001b[0m\u001b[1;33m(\u001b[0m\u001b[1;34m\"-I\"\u001b[0m\u001b[1;33m+\u001b[0m\u001b[0mi\u001b[0m\u001b[1;33m)\u001b[0m\u001b[1;33m\u001b[0m\u001b[0m\n\u001b[0;32m    254\u001b[0m \u001b[1;33m\u001b[0m\u001b[0m\n\u001b[1;32m--> 255\u001b[1;33m     \u001b[1;32mreturn\u001b[0m \u001b[0mcompile_plain\u001b[0m\u001b[1;33m(\u001b[0m\u001b[0msource\u001b[0m\u001b[1;33m,\u001b[0m \u001b[0moptions\u001b[0m\u001b[1;33m,\u001b[0m \u001b[0mkeep\u001b[0m\u001b[1;33m,\u001b[0m \u001b[0mnvcc\u001b[0m\u001b[1;33m,\u001b[0m \u001b[0mcache_dir\u001b[0m\u001b[1;33m,\u001b[0m \u001b[0mtarget\u001b[0m\u001b[1;33m)\u001b[0m\u001b[1;33m\u001b[0m\u001b[0m\n\u001b[0m\u001b[0;32m    256\u001b[0m \u001b[1;33m\u001b[0m\u001b[0m\n\u001b[0;32m    257\u001b[0m \u001b[1;32mclass\u001b[0m \u001b[0mCudaModule\u001b[0m\u001b[1;33m(\u001b[0m\u001b[0mobject\u001b[0m\u001b[1;33m)\u001b[0m\u001b[1;33m:\u001b[0m\u001b[1;33m\u001b[0m\u001b[0m\n",
      "\u001b[1;32m/home/rpang_contact/anaconda3/lib/python3.5/site-packages/pycuda/compiler.py\u001b[0m in \u001b[0;36mcompile_plain\u001b[1;34m(source, options, keep, nvcc, cache_dir, target)\u001b[0m\n\u001b[0;32m    135\u001b[0m         raise CompileError(\"nvcc compilation of %s failed\" % cu_file_path,\n\u001b[0;32m    136\u001b[0m                 \u001b[0mcmdline\u001b[0m\u001b[1;33m,\u001b[0m \u001b[0mstdout\u001b[0m\u001b[1;33m=\u001b[0m\u001b[0mstdout\u001b[0m\u001b[1;33m.\u001b[0m\u001b[0mdecode\u001b[0m\u001b[1;33m(\u001b[0m\u001b[1;34m\"utf-8\"\u001b[0m\u001b[1;33m,\u001b[0m \u001b[1;34m\"replace\"\u001b[0m\u001b[1;33m)\u001b[0m\u001b[1;33m,\u001b[0m\u001b[1;33m\u001b[0m\u001b[0m\n\u001b[1;32m--> 137\u001b[1;33m                 stderr=stderr.decode(\"utf-8\", \"replace\"))\n\u001b[0m\u001b[0;32m    138\u001b[0m \u001b[1;33m\u001b[0m\u001b[0m\n\u001b[0;32m    139\u001b[0m     \u001b[1;32mif\u001b[0m \u001b[0mstdout\u001b[0m \u001b[1;32mor\u001b[0m \u001b[0mstderr\u001b[0m\u001b[1;33m:\u001b[0m\u001b[1;33m\u001b[0m\u001b[0m\n",
      "\u001b[1;31mCompileError\u001b[0m: nvcc compilation of /tmp/tmp9exy0aqq/kernel.cu failed\n[command: nvcc --cubin -arch sm_37 -I/home/rpang_contact/anaconda3/lib/python3.5/site-packages/pycuda/cuda kernel.cu]\n[stderr:\nkernel.cu(13): error: function \"atomicAdd(float *, float)\" has already been defined\n\n1 error detected in the compilation of \"/tmp/tmpxft_00000a3a_00000000-7_kernel.cpp1.ii\".\n]"
     ]
    }
   ],
   "source": [
    "import pdb\n",
    "\n",
    "COUNT = 100\n",
    "N = 8000\n",
    "P = 0.1\n",
    "DTYPE = np.float32\n",
    "\n",
    "print('Constructing objects...\\n\\n')\n",
    "np.random.seed(0)\n",
    "a_dense = np.random.rand(N, N).astype(DTYPE)\n",
    "a_dense[np.random.rand(N, N) >= P] = 0\n",
    "a_sparse = csr_matrix(a_dense)\n",
    "\n",
    "b = np.random.rand(N, 1).astype(DTYPE)\n",
    "\n",
    "# numpy dense\n",
    "tic = time()\n",
    "for ii in range(COUNT):\n",
    "    c = np.dot(a_dense, b)\n",
    "toc = time()\n",
    "\n",
    "print('numpy dense matrix multiplication took {} seconds\\n\\n'.format(toc - tic))\n",
    "print('c[:5, 0] = {}\\n'.format(c[:5, 0]))\n",
    "\n",
    "# scipy sparse\n",
    "tic = time()\n",
    "for ii in range(COUNT):\n",
    "    c = a_sparse.dot(b)\n",
    "toc = time()\n",
    "\n",
    "print('scipy sparse matrix multiplication took {} seconds\\n\\n'.format(toc - tic))\n",
    "print('c[:5, 0] = {}\\n'.format(c[:5, 0]))\n",
    "\n",
    "# pycuda sparse\n",
    "c, t = spmv_cuda(a_sparse, b, COUNT)\n",
    "print('pycuda sparse matrix multiplication took {} seconds\\n\\n'.format(t))\n",
    "print('c[:5, 0] = {}\\n'.format(c[:5]))"
   ]
  },
  {
   "cell_type": "code",
   "execution_count": null,
   "metadata": {
    "collapsed": false
   },
   "outputs": [],
   "source": [
    "pdb.pm()"
   ]
  }
 ],
 "metadata": {
  "kernelspec": {
   "display_name": "Python 3",
   "language": "python",
   "name": "python3"
  },
  "language_info": {
   "codemirror_mode": {
    "name": "ipython",
    "version": 3
   },
   "file_extension": ".py",
   "mimetype": "text/x-python",
   "name": "python",
   "nbconvert_exporter": "python",
   "pygments_lexer": "ipython3",
   "version": "3.5.4"
  }
 },
 "nbformat": 4,
 "nbformat_minor": 2
}
