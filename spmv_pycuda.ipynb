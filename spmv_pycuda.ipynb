{
 "cells": [
  {
   "cell_type": "code",
   "execution_count": null,
   "metadata": {},
   "outputs": [],
   "source": [
    "%reset -f\n",
    "import numpy as np\n",
    "import pycuda.autoinit\n",
    "import pycuda.driver as drv\n",
    "import pycuda.gpuarray as gpuarray\n",
    "from pycuda.sparse.packeted import PacketedSpMV\n",
    "from pycuda.tools import DeviceMemoryPool\n",
    "from scipy.sparse import csr_matrix"
   ]
  },
  {
   "cell_type": "markdown",
   "metadata": {},
   "source": [
    "# Make sure we can detect GPUArray instances"
   ]
  },
  {
   "cell_type": "code",
   "execution_count": null,
   "metadata": {
    "collapsed": true
   },
   "outputs": [],
   "source": [
    "x = np.arange(5)\n",
    "d_x = gpuarray.to_gpu(x)\n",
    "print(type(x))\n",
    "print(x.__class__)"
   ]
  },
  {
   "cell_type": "markdown",
   "metadata": {},
   "source": [
    "# Make sure spmv is storing csr matrix using gpu arrays."
   ]
  },
  {
   "cell_type": "markdown",
   "metadata": {},
   "source": [
    "## Initialize arrays"
   ]
  },
  {
   "cell_type": "code",
   "execution_count": null,
   "metadata": {
    "collapsed": true
   },
   "outputs": [],
   "source": [
    "dtype = np.float32\n",
    "\n",
    "a_dense = np.array([\n",
    "    [0, 0, 0, 1, 0, 0, 0],\n",
    "    [0, 2, 0, 0, 0, 0, 0],\n",
    "    [0, 0, 4, 0, 0, 0, 3],\n",
    "    [0, 0, 0, 0, 0, 0, 0],\n",
    "    [0, 0, 0, 5, 0, 0, 0],\n",
    "    [1, 0, 0, 2, 4, 0, 0],\n",
    "    [0, 3, 0, 0, 0, 0, 0],\n",
    "], dtype=dtype)\n",
    "a_sparse = csr_matrix(a_dense)\n",
    "\n",
    "a_data = a_sparse.data\n",
    "a_row_ptrs = a_sparse.indptr\n",
    "a_col_idxs = a_sparse.indices\n",
    "\n",
    "b = np.array([[1, 2, 3, 4, 5, 6, 7]], dtype=dtype).T\n",
    "c_correct = np.array([[4, 4, 33, 0, 20, 29, 6]], dtype=dtype).T\n",
    "\n",
    "m = a_sparse.shape[0]\n",
    "n = 1\n",
    "k = a_sparse.shape[1]"
   ]
  },
  {
   "cell_type": "markdown",
   "metadata": {},
   "source": [
    "## Create PacketedSpMV instance"
   ]
  },
  {
   "cell_type": "code",
   "execution_count": null,
   "metadata": {
    "collapsed": true
   },
   "outputs": [],
   "source": [
    "spmv = PacketedSpMV(a_sparse, is_symmetric=False, dtype=dtype)"
   ]
  },
  {
   "cell_type": "code",
   "execution_count": null,
   "metadata": {
    "collapsed": true
   },
   "outputs": [],
   "source": [
    "for attr in dir(spmv):\n",
    "    val = getattr(spmv, attr)\n",
    "    print('{} ({}) = {}'.format(attr, type(val).__name__, val))"
   ]
  },
  {
   "cell_type": "code",
   "execution_count": null,
   "metadata": {
    "collapsed": true
   },
   "outputs": [],
   "source": [
    "for attr in dir(spmv):\n",
    "    val = getattr(spmv, attr)\n",
    "    if type(val).__name__.endswith('GPUArray'):\n",
    "        print('{} ({}) = {}'.format(attr, type(val).__name__, val))"
   ]
  },
  {
   "cell_type": "markdown",
   "metadata": {},
   "source": [
    "# Make sure we can correctly calculate the product"
   ]
  },
  {
   "cell_type": "markdown",
   "metadata": {},
   "source": [
    "## Move b to initialize c on GPU"
   ]
  },
  {
   "cell_type": "code",
   "execution_count": null,
   "metadata": {
    "collapsed": true
   },
   "outputs": [],
   "source": [
    "dev_pool = DeviceMemoryPool()\n",
    "\n",
    "d_b = gpuarray.to_gpu(b, dev_pool.allocate)\n",
    "d_c = gpuarray.zeros(m, dtype=dtype, allocator=d_b.allocator)"
   ]
  },
  {
   "cell_type": "markdown",
   "metadata": {},
   "source": [
    "## Calculate the matrix product"
   ]
  },
  {
   "cell_type": "code",
   "execution_count": null,
   "metadata": {
    "collapsed": true
   },
   "outputs": [],
   "source": [
    "d_c = spmv(d_b, d_c)\n",
    "\n",
    "print('C computed: {}'.format(d_c.get().flatten()))\n",
    "print('C correct: {}'.format(c_correct.flatten()))"
   ]
  },
  {
   "cell_type": "markdown",
   "metadata": {},
   "source": [
    "# Run benchmarks"
   ]
  },
  {
   "cell_type": "code",
   "execution_count": null,
   "metadata": {
    "collapsed": true
   },
   "outputs": [],
   "source": []
  }
 ],
 "metadata": {
  "kernelspec": {
   "display_name": "Python 3",
   "language": "python",
   "name": "python3"
  },
  "language_info": {
   "codemirror_mode": {
    "name": "ipython",
    "version": 3
   },
   "file_extension": ".py",
   "mimetype": "text/x-python",
   "name": "python",
   "nbconvert_exporter": "python",
   "pygments_lexer": "ipython3",
   "version": "3.6.3"
  }
 },
 "nbformat": 4,
 "nbformat_minor": 2
}
